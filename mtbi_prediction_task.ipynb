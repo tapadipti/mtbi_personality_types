{
 "cells": [
  {
   "cell_type": "code",
   "execution_count": 1,
   "id": "cc4fba78",
   "metadata": {},
   "outputs": [],
   "source": [
    "from IPython.core.interactiveshell import InteractiveShell\n",
    "InteractiveShell.ast_node_interactivity = \"all\""
   ]
  },
  {
   "cell_type": "markdown",
   "id": "6c1f0dd2",
   "metadata": {},
   "source": [
    "Load the data and do some quick analysis."
   ]
  },
  {
   "cell_type": "code",
   "execution_count": 2,
   "id": "117bb0b2",
   "metadata": {},
   "outputs": [
    {
     "data": {
      "text/html": [
       "<div>\n",
       "<style scoped>\n",
       "    .dataframe tbody tr th:only-of-type {\n",
       "        vertical-align: middle;\n",
       "    }\n",
       "\n",
       "    .dataframe tbody tr th {\n",
       "        vertical-align: top;\n",
       "    }\n",
       "\n",
       "    .dataframe thead th {\n",
       "        text-align: right;\n",
       "    }\n",
       "</style>\n",
       "<table border=\"1\" class=\"dataframe\">\n",
       "  <thead>\n",
       "    <tr style=\"text-align: right;\">\n",
       "      <th></th>\n",
       "      <th>posts</th>\n",
       "      <th>type</th>\n",
       "    </tr>\n",
       "  </thead>\n",
       "  <tbody>\n",
       "    <tr>\n",
       "      <th>0</th>\n",
       "      <td>know intj tool use interaction people excuse a...</td>\n",
       "      <td>INTJ</td>\n",
       "    </tr>\n",
       "    <tr>\n",
       "      <th>1</th>\n",
       "      <td>rap music ehh opp yeah know valid well know fa...</td>\n",
       "      <td>INTJ</td>\n",
       "    </tr>\n",
       "    <tr>\n",
       "      <th>2</th>\n",
       "      <td>preferably p hd low except wew lad video p min...</td>\n",
       "      <td>INTJ</td>\n",
       "    </tr>\n",
       "    <tr>\n",
       "      <th>3</th>\n",
       "      <td>drink like wish could drink red wine give head...</td>\n",
       "      <td>INTJ</td>\n",
       "    </tr>\n",
       "    <tr>\n",
       "      <th>4</th>\n",
       "      <td>space program ah bad deal meing freelance max ...</td>\n",
       "      <td>INTJ</td>\n",
       "    </tr>\n",
       "    <tr>\n",
       "      <th>...</th>\n",
       "      <td>...</td>\n",
       "      <td>...</td>\n",
       "    </tr>\n",
       "    <tr>\n",
       "      <th>106062</th>\n",
       "      <td>stay frustrate world life want take long nap w...</td>\n",
       "      <td>INFP</td>\n",
       "    </tr>\n",
       "    <tr>\n",
       "      <th>106063</th>\n",
       "      <td>fizzle around time mention sure mistake thing ...</td>\n",
       "      <td>INFP</td>\n",
       "    </tr>\n",
       "    <tr>\n",
       "      <th>106064</th>\n",
       "      <td>schedule modify hey w intp strong wing underst...</td>\n",
       "      <td>INFP</td>\n",
       "    </tr>\n",
       "    <tr>\n",
       "      <th>106065</th>\n",
       "      <td>enfj since january busy schedule able spend li...</td>\n",
       "      <td>INFP</td>\n",
       "    </tr>\n",
       "    <tr>\n",
       "      <th>106066</th>\n",
       "      <td>feel like men good problem tell parent want te...</td>\n",
       "      <td>INFP</td>\n",
       "    </tr>\n",
       "  </tbody>\n",
       "</table>\n",
       "<p>106067 rows × 2 columns</p>\n",
       "</div>"
      ],
      "text/plain": [
       "                                                    posts  type\n",
       "0       know intj tool use interaction people excuse a...  INTJ\n",
       "1       rap music ehh opp yeah know valid well know fa...  INTJ\n",
       "2       preferably p hd low except wew lad video p min...  INTJ\n",
       "3       drink like wish could drink red wine give head...  INTJ\n",
       "4       space program ah bad deal meing freelance max ...  INTJ\n",
       "...                                                   ...   ...\n",
       "106062  stay frustrate world life want take long nap w...  INFP\n",
       "106063  fizzle around time mention sure mistake thing ...  INFP\n",
       "106064  schedule modify hey w intp strong wing underst...  INFP\n",
       "106065  enfj since january busy schedule able spend li...  INFP\n",
       "106066  feel like men good problem tell parent want te...  INFP\n",
       "\n",
       "[106067 rows x 2 columns]"
      ]
     },
     "execution_count": 2,
     "metadata": {},
     "output_type": "execute_result"
    }
   ],
   "source": [
    "import pandas as pd\n",
    "all_data = pd.read_csv('data_archive.zip')\n",
    "all_data"
   ]
  },
  {
   "cell_type": "code",
   "execution_count": 3,
   "id": "dab4e8eb",
   "metadata": {},
   "outputs": [
    {
     "data": {
      "text/plain": [
       "INTP    24961\n",
       "INTJ    22427\n",
       "INFJ    14963\n",
       "INFP    12134\n",
       "ENTP    11725\n",
       "ENFP     6167\n",
       "ISTP     3424\n",
       "ENTJ     2955\n",
       "ESTP     1986\n",
       "ENFJ     1534\n",
       "ISTJ     1243\n",
       "ISFP      875\n",
       "ISFJ      650\n",
       "ESTJ      482\n",
       "ESFP      360\n",
       "ESFJ      181\n",
       "Name: type, dtype: int64"
      ]
     },
     "execution_count": 3,
     "metadata": {},
     "output_type": "execute_result"
    }
   ],
   "source": [
    "all_data['type'].value_counts(normalize=False)"
   ]
  },
  {
   "cell_type": "markdown",
   "id": "826351d0",
   "metadata": {},
   "source": [
    "The dataset is heavily unbalanced. So, I decided to first attempt classification for the two most frequent classes only: INTJ and INTP."
   ]
  },
  {
   "cell_type": "code",
   "execution_count": 4,
   "id": "0cc14ea6",
   "metadata": {},
   "outputs": [
    {
     "data": {
      "text/html": [
       "<div>\n",
       "<style scoped>\n",
       "    .dataframe tbody tr th:only-of-type {\n",
       "        vertical-align: middle;\n",
       "    }\n",
       "\n",
       "    .dataframe tbody tr th {\n",
       "        vertical-align: top;\n",
       "    }\n",
       "\n",
       "    .dataframe thead th {\n",
       "        text-align: right;\n",
       "    }\n",
       "</style>\n",
       "<table border=\"1\" class=\"dataframe\">\n",
       "  <thead>\n",
       "    <tr style=\"text-align: right;\">\n",
       "      <th></th>\n",
       "      <th>posts</th>\n",
       "      <th>type</th>\n",
       "    </tr>\n",
       "  </thead>\n",
       "  <tbody>\n",
       "    <tr>\n",
       "      <th>22427</th>\n",
       "      <td>watch bite everything include hentai tend enjo...</td>\n",
       "      <td>INTP</td>\n",
       "    </tr>\n",
       "    <tr>\n",
       "      <th>22428</th>\n",
       "      <td>like goal personally appeal probably wrong see...</td>\n",
       "      <td>INTP</td>\n",
       "    </tr>\n",
       "    <tr>\n",
       "      <th>22429</th>\n",
       "      <td>fill unfortunately read habit want learn prefe...</td>\n",
       "      <td>INTP</td>\n",
       "    </tr>\n",
       "    <tr>\n",
       "      <th>22430</th>\n",
       "      <td>people idea reason enjoy leadership role like ...</td>\n",
       "      <td>INTP</td>\n",
       "    </tr>\n",
       "    <tr>\n",
       "      <th>22431</th>\n",
       "      <td>state grievance ego lack skill find polarize w...</td>\n",
       "      <td>INTP</td>\n",
       "    </tr>\n",
       "    <tr>\n",
       "      <th>...</th>\n",
       "      <td>...</td>\n",
       "      <td>...</td>\n",
       "    </tr>\n",
       "    <tr>\n",
       "      <th>95</th>\n",
       "      <td>steal etc guarantee best resus like apply kant...</td>\n",
       "      <td>INTJ</td>\n",
       "    </tr>\n",
       "    <tr>\n",
       "      <th>96</th>\n",
       "      <td>th doctor would resolve matter explode burn lo...</td>\n",
       "      <td>INTJ</td>\n",
       "    </tr>\n",
       "    <tr>\n",
       "      <th>97</th>\n",
       "      <td>similar refinement sophistication efficacy met...</td>\n",
       "      <td>INTJ</td>\n",
       "    </tr>\n",
       "    <tr>\n",
       "      <th>98</th>\n",
       "      <td>grow safe home whatnot way shape form agree li...</td>\n",
       "      <td>INTJ</td>\n",
       "    </tr>\n",
       "    <tr>\n",
       "      <th>99</th>\n",
       "      <td>practical reject philosophical absolute like p...</td>\n",
       "      <td>INTJ</td>\n",
       "    </tr>\n",
       "  </tbody>\n",
       "</table>\n",
       "<p>200 rows × 2 columns</p>\n",
       "</div>"
      ],
      "text/plain": [
       "                                                   posts  type\n",
       "22427  watch bite everything include hentai tend enjo...  INTP\n",
       "22428  like goal personally appeal probably wrong see...  INTP\n",
       "22429  fill unfortunately read habit want learn prefe...  INTP\n",
       "22430  people idea reason enjoy leadership role like ...  INTP\n",
       "22431  state grievance ego lack skill find polarize w...  INTP\n",
       "...                                                  ...   ...\n",
       "95     steal etc guarantee best resus like apply kant...  INTJ\n",
       "96     th doctor would resolve matter explode burn lo...  INTJ\n",
       "97     similar refinement sophistication efficacy met...  INTJ\n",
       "98     grow safe home whatnot way shape form agree li...  INTJ\n",
       "99     practical reject philosophical absolute like p...  INTJ\n",
       "\n",
       "[200 rows x 2 columns]"
      ]
     },
     "execution_count": 4,
     "metadata": {},
     "output_type": "execute_result"
    },
    {
     "data": {
      "text/plain": [
       "INTP    100\n",
       "INTJ    100\n",
       "Name: type, dtype: int64"
      ]
     },
     "execution_count": 4,
     "metadata": {},
     "output_type": "execute_result"
    }
   ],
   "source": [
    "# data = all_data[all_data['type'].isin(['INTP', 'INTJ'])]\n",
    "num_records_of_each_type = 100\n",
    "intp_data = all_data[all_data['type'].isin(['INTP'])].head(num_records_of_each_type)\n",
    "intj_data = all_data[all_data['type'].isin(['INTJ'])].head(num_records_of_each_type)\n",
    "data = pd.concat([intp_data, intj_data])\n",
    "data\n",
    "data['type'].value_counts()\n",
    "\n",
    "from sklearn.model_selection import train_test_split\n",
    "from sklearn.feature_extraction.text import TfidfVectorizer\n",
    "from sklearn.linear_model import LogisticRegression\n",
    "from sklearn.metrics import classification_report\n",
    "\n",
    "X_train, X_test, y_train, y_test = train_test_split(data['posts'], data['type'], test_size=0.1)\n",
    "vectorizer = TfidfVectorizer()\n",
    "X_train = vectorizer.fit_transform(X_train)\n",
    "X_test = vectorizer.transform(X_test)"
   ]
  },
  {
   "cell_type": "code",
   "execution_count": 30,
   "id": "241832d4",
   "metadata": {},
   "outputs": [
    {
     "name": "stdout",
     "output_type": "stream",
     "text": [
      "Remember to stop your project once you’ve finished logging your metadata (https://docs.neptune.ai/api-reference/project#.stop). It will be stopped automatically only when the notebook kernel/interactive console is terminated.\n",
      "https://app.neptune.ai/tapadipti/mtbi/e/MTBI-65\n",
      "Remember to stop your run once you’ve finished logging your metadata (https://docs.neptune.ai/api-reference/run#.stop). It will be stopped automatically only when the notebook kernel/interactive console is terminated.\n"
     ]
    },
    {
     "data": {
      "text/plain": [
       "<Experiment: artifact_location='dbfs:/databricks/mlflow-tracking/3655081809295562', experiment_id='3655081809295562', lifecycle_stage='active', name='/Users/tapadipti@gmail.com/mtbi_personality_types', tags={'mlflow.experimentType': 'MLFLOW_EXPERIMENT',\n",
       " 'mlflow.ownerEmail': 'tapadipti@gmail.com',\n",
       " 'mlflow.ownerId': '1845632268928146'}>"
      ]
     },
     "execution_count": 30,
     "metadata": {},
     "output_type": "execute_result"
    },
    {
     "data": {
      "text/plain": [
       "<ActiveRun: >"
      ]
     },
     "execution_count": 30,
     "metadata": {},
     "output_type": "execute_result"
    },
    {
     "data": {
      "text/plain": [
       "LogisticRegression()"
      ]
     },
     "execution_count": 30,
     "metadata": {},
     "output_type": "execute_result"
    },
    {
     "name": "stdout",
     "output_type": "stream",
     "text": [
      "              precision    recall  f1-score   support\n",
      "\n",
      "        INTJ       0.86      0.60      0.71        10\n",
      "        INTP       0.69      0.90      0.78        10\n",
      "\n",
      "    accuracy                           0.75        20\n",
      "   macro avg       0.77      0.75      0.74        20\n",
      "weighted avg       0.77      0.75      0.74        20\n",
      "\n"
     ]
    },
    {
     "data": {
      "text/plain": [
       "<Namespace field at \"parameters\">"
      ]
     },
     "execution_count": 30,
     "metadata": {},
     "output_type": "execute_result"
    },
    {
     "data": {
      "text/plain": [
       "<Float field at \"accuracy\">"
      ]
     },
     "execution_count": 30,
     "metadata": {},
     "output_type": "execute_result"
    },
    {
     "data": {
      "text/plain": [
       "ModelInfo(artifact_path='model', flavors={'python_function': {'model_path': 'model.pkl', 'loader_module': 'mlflow.sklearn', 'python_version': '3.9.5', 'env': 'conda.yaml'}, 'sklearn': {'pickled_model': 'model.pkl', 'sklearn_version': '1.0', 'serialization_format': 'cloudpickle'}}, model_uri='runs:/e16fb3fe7a1c45758c0a91df01cd61b3/model', model_uuid='1710069f4e6347858e71cf3a92851251', run_id='e16fb3fe7a1c45758c0a91df01cd61b3', saved_input_example_info=None, signature_dict=None, utc_time_created='2022-01-30 08:20:09.221382')"
      ]
     },
     "execution_count": 30,
     "metadata": {},
     "output_type": "execute_result"
    },
    {
     "data": {
      "text/plain": [
       "array([[6, 4],\n",
       "       [1, 9]])"
      ]
     },
     "execution_count": 30,
     "metadata": {},
     "output_type": "execute_result"
    },
    {
     "data": {
      "text/plain": [
       "Text(0.5, 1.0, 'Confusion Matrix')"
      ]
     },
     "execution_count": 30,
     "metadata": {},
     "output_type": "execute_result"
    },
    {
     "data": {
      "text/plain": [
       "Text(0.5, 0, 'Predicted Types')"
      ]
     },
     "execution_count": 30,
     "metadata": {},
     "output_type": "execute_result"
    },
    {
     "data": {
      "text/plain": [
       "Text(0, 0.5, 'Actual Types')"
      ]
     },
     "execution_count": 30,
     "metadata": {},
     "output_type": "execute_result"
    },
    {
     "data": {
      "text/plain": [
       "<matplotlib.image.AxesImage at 0x17e0e1a60>"
      ]
     },
     "execution_count": 30,
     "metadata": {},
     "output_type": "execute_result"
    },
    {
     "data": {
      "text/plain": [
       "[<matplotlib.axis.XTick at 0x17e032fa0>,\n",
       " <matplotlib.axis.XTick at 0x17e032c10>]"
      ]
     },
     "execution_count": 30,
     "metadata": {},
     "output_type": "execute_result"
    },
    {
     "data": {
      "text/plain": [
       "[Text(0, 1, 'INTJ'), Text(1, 1, 'INTP')]"
      ]
     },
     "execution_count": 30,
     "metadata": {},
     "output_type": "execute_result"
    },
    {
     "data": {
      "text/plain": [
       "[<matplotlib.axis.YTick at 0x17dfdd460>,\n",
       " <matplotlib.axis.YTick at 0x17e0e9250>]"
      ]
     },
     "execution_count": 30,
     "metadata": {},
     "output_type": "execute_result"
    },
    {
     "data": {
      "text/plain": [
       "[Text(0, 0, 'INTJ'), Text(0, 1, 'INTP')]"
      ]
     },
     "execution_count": 30,
     "metadata": {},
     "output_type": "execute_result"
    },
    {
     "data": {
      "text/plain": [
       "Text(0, 0, '6')"
      ]
     },
     "execution_count": 30,
     "metadata": {},
     "output_type": "execute_result"
    },
    {
     "data": {
      "text/plain": [
       "Text(1, 0, '4')"
      ]
     },
     "execution_count": 30,
     "metadata": {},
     "output_type": "execute_result"
    },
    {
     "data": {
      "text/plain": [
       "Text(0, 1, '1')"
      ]
     },
     "execution_count": 30,
     "metadata": {},
     "output_type": "execute_result"
    },
    {
     "data": {
      "text/plain": [
       "Text(1, 1, '9')"
      ]
     },
     "execution_count": 30,
     "metadata": {},
     "output_type": "execute_result"
    },
    {
     "data": {
      "image/png": "[encoded data removed]",
      "text/plain": [
       "<Figure size 432x288 with 1 Axes>"
      ]
     },
     "metadata": {
      "needs_background": "light"
     },
     "output_type": "display_data"
    },
    {
     "name": "stdout",
     "output_type": "stream",
     "text": [
      "Shutting down background jobs, please wait a moment...\n",
      "Done!\n"
     ]
    },
    {
     "name": "stderr",
     "output_type": "stream",
     "text": [
      "Waiting for the remaining 4 operations to synchronize with Neptune. Do not kill this process.\n"
     ]
    },
    {
     "name": "stdout",
     "output_type": "stream",
     "text": [
      "All 4 operations synced, thanks for waiting!\n"
     ]
    }
   ],
   "source": [
    "import neptune.new as neptune\n",
    "import mlflow\n",
    "import sys, json\n",
    "\n",
    "neptune_project = neptune.init_project(name=\"tapadipti/mtbi\", api_token=\"eyJhcGlfYWRkcmVzcyI6Imh0dHBzOi8vYXBwLm5lcHR1bmUuYWkiLCJhcGlfdXJsIjoiaHR0cHM6Ly9hcHAubmVwdHVuZS5haSIsImFwaV9rZXkiOiI2MWI2YzlkMS0zNjBlLTQ1NjEtYmUxNS05MDI1ZGMyNDA1ODAifQ==\")\n",
    "\n",
    "neptune_run = neptune.init(\n",
    "    project=\"tapadipti/mtbi\",\n",
    "    api_token=\"eyJhcGlfYWRkcmVzcyI6Imh0dHBzOi8vYXBwLm5lcHR1bmUuYWkiLCJhcGlfdXJsIjoiaHR0cHM6Ly9hcHAubmVwdHVuZS5haSIsImFwaV9rZXkiOiI2MWI2YzlkMS0zNjBlLTQ1NjEtYmUxNS05MDI1ZGMyNDA1ODAifQ==\",\n",
    "    source_files=[\"mtbi_prediction_task.ipynb\"]\n",
    ")\n",
    "\n",
    "mlflow.set_tracking_uri(\"databricks\")\n",
    "mlflow.set_experiment(\"/Users/tapadipti@gmail.com/mtbi_personality_types\")\n",
    "mlflow.sklearn.autolog(disable=True)\n",
    "mlflow.start_run()\n",
    "\n",
    "with open(\"params.json\") as f:\n",
    "    all_params = json.load(f)\n",
    "params = all_params[\"lr\"]\n",
    "\n",
    "lr = LogisticRegression(**params)\n",
    "lr.fit(X_train, y_train)\n",
    "\n",
    "y_pred = lr.predict(X_test)\n",
    "print(classification_report(y_test, y_pred))\n",
    "\n",
    "from sklearn.metrics import accuracy_score\n",
    "accuracy = accuracy_score(y_test, y_pred)\n",
    "\n",
    "neptune_run[\"parameters\"] = params\n",
    "neptune_run[\"accuracy\"] = accuracy\n",
    "\n",
    "neptune_run[\"accuracy_log\"].log(accuracy)\n",
    "\n",
    "neptune_run[\"parameters\"]\n",
    "neptune_run[\"accuracy\"]\n",
    "\n",
    "\n",
    "mlflow.log_param(\"penalty\", params[\"penalty\"])\n",
    "mlflow.log_metric(\"accuracy\", accuracy)\n",
    "# mlflow.log_metric(\"accuracy\", accuracy+0.01)\n",
    "# mlflow.log_metric(\"accuracy\", accuracy+0.02)\n",
    "from urllib.parse import urlparse\n",
    "tracking_uri_scheme = urlparse(mlflow.get_tracking_uri()).scheme\n",
    "# if tracking_uri_scheme != \"file\":\n",
    "mlflow.sklearn.log_model(lr, \"model\")\n",
    "# else:\n",
    "#     mlflow.sklearn.log_model(lr, \"model\")\n",
    "\n",
    "\n",
    "from sklearn.metrics import confusion_matrix\n",
    "cm = confusion_matrix(y_test, y_pred)\n",
    "cm\n",
    "\n",
    "neptune_project[\"general/source_code\"].upload(\"mtbi_prediction_task.ipynb\")\n",
    "neptune_project[\"dataset/v0.1\"].track_files(\"./data_archive.zip\")\n",
    "\n",
    "neptune_run[\"notebook_code\"].track_files(\"mtbi_prediction_task.ipynb\")\n",
    "neptune_run[\"train_dataset\"].track_files(\"./data_archive.zip\")\n",
    "\n",
    "\n",
    "import matplotlib.pyplot as plt\n",
    "import numpy as np\n",
    "# import seaborn as sns\n",
    "\n",
    "# ax = sns.heatmap(cm, cmap=\"Blues\", annot=True, fmt=\"d\")\n",
    "\n",
    "# ax.set_title('Confusion Matrix');\n",
    "# ax.set_xlabel('Predicted Type')\n",
    "# ax.set_ylabel('Actual Type');\n",
    "\n",
    "# ax.xaxis.set_ticklabels(['INTJ','INTP'])\n",
    "# ax.yaxis.set_ticklabels(['INTJ','INTP'])\n",
    "\n",
    "# plt.show()\n",
    "\n",
    "fig, ax = plt.subplots()\n",
    "plt.title('Confusion Matrix')\n",
    "plt.xlabel('Predicted Types')\n",
    "plt.ylabel('Actual Types')\n",
    "\n",
    "ax.matshow(cm, cmap=\"Blues\", alpha=0.2)\n",
    "\n",
    "mtbi_types = ['INTJ', 'INTP']\n",
    "tick_positions = np.arange(len(mtbi_types))\n",
    "ax.xaxis.set_ticks(tick_positions)\n",
    "ax.xaxis.set_ticklabels(mtbi_types)\n",
    "ax.yaxis.set_ticks(tick_positions)\n",
    "ax.yaxis.set_ticklabels(mtbi_types)\n",
    "\n",
    "for i in range(cm.shape[0]):\n",
    "    for j in range(cm.shape[1]):\n",
    "        ax.text(x=j, y=i,s=cm[i, j], va='center', ha='center', size='large')\n",
    "\n",
    "plt.show()\n",
    "\n",
    "neptune_run[\"confusion_matrix\"].upload(fig)\n",
    "neptune_run.stop()\n",
    "\n",
    "mlflow.end_run()"
   ]
  },
  {
   "cell_type": "code",
   "execution_count": 22,
   "id": "c5ce6bed",
   "metadata": {},
   "outputs": [],
   "source": [
    "mlflow.end_run()"
   ]
  },
  {
   "cell_type": "code",
   "execution_count": 6,
   "id": "c03d082c",
   "metadata": {},
   "outputs": [],
   "source": [
    "\n",
    "\n",
    "# neptune_run[\"precision\"] = {\"INTJ\": 0.92, \"INTP\": 0.92}\n",
    "# neptune_run[\"recall\"] = {\"INTJ\": 0.91, \"INTP\": 0.93}\n",
    "# neptune_run[\"f1-score\"] = {\"INTJ\": 0.91, \"INTP\": 0.93}\n",
    "\n",
    "\n",
    "# neptune_project[\"general/brief\"] = \"URL_TO_PROJECT_BRIEF\"\n",
    "\n",
    "# project[\"dataset/latest\"] = project[\"dataset/v0.1\"].fetch()\n",
    "# project = neptune.init_project(\"tapadipti/mtbi\", mode=\"read-only\")\n",
    "# run[\"dataset\"] = project[\"dataset/v0.1\"].fetch()\n",
    "# run[\"dataset\"].download()\n",
    "\n"
   ]
  },
  {
   "cell_type": "code",
   "execution_count": 26,
   "id": "97144336",
   "metadata": {},
   "outputs": [
    {
     "name": "stdout",
     "output_type": "stream",
     "text": [
      "1\n"
     ]
    }
   ],
   "source": [
    "print(1)"
   ]
  }
 ],
 "metadata": {
  "kernelspec": {
   "display_name": "Python 3 (ipykernel)",
   "language": "python",
   "name": "python3"
  },
  "language_info": {
   "codemirror_mode": {
    "name": "ipython",
    "version": 3
   },
   "file_extension": ".py",
   "mimetype": "text/x-python",
   "name": "python",
   "nbconvert_exporter": "python",
   "pygments_lexer": "ipython3",
   "version": "3.9.5"
  }
 },
 "nbformat": 4,
 "nbformat_minor": 5
}
